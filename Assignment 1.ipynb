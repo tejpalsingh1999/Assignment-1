{
 "cells": [
  {
   "cell_type": "markdown",
   "id": "sound-admission",
   "metadata": {},
   "source": [
    "## Question 1"
   ]
  },
  {
   "cell_type": "code",
   "execution_count": 12,
   "id": "plain-flexibility",
   "metadata": {},
   "outputs": [
    {
     "name": "stdout",
     "output_type": "stream",
     "text": [
      "Enter Your NameTejpal Singh\n",
      "Enter your Age22\n"
     ]
    }
   ],
   "source": [
    "name = input('Enter Your Name')\n",
    "age = input('Enter your Age')"
   ]
  },
  {
   "cell_type": "code",
   "execution_count": 13,
   "id": "governmental-brain",
   "metadata": {},
   "outputs": [
    {
     "name": "stdout",
     "output_type": "stream",
     "text": [
      "2099\n"
     ]
    }
   ],
   "source": [
    "year = 2021 + (100 - int(age))\n",
    "year = str(year)\n",
    "print(year)"
   ]
  },
  {
   "cell_type": "code",
   "execution_count": 14,
   "id": "abroad-dragon",
   "metadata": {},
   "outputs": [
    {
     "name": "stdout",
     "output_type": "stream",
     "text": [
      "Year in which Tejpal Singh will turn 100 is :2099\n"
     ]
    }
   ],
   "source": [
    "print('Year in which '+ name + ' will turn 100 is :'+ year)"
   ]
  },
  {
   "cell_type": "code",
   "execution_count": null,
   "id": "metallic-asthma",
   "metadata": {},
   "outputs": [],
   "source": []
  },
  {
   "cell_type": "markdown",
   "id": "concerned-abortion",
   "metadata": {},
   "source": [
    "## Question 2"
   ]
  },
  {
   "cell_type": "code",
   "execution_count": 15,
   "id": "later-craps",
   "metadata": {},
   "outputs": [],
   "source": [
    "a = [1, 1, 2, 3, 5, 8, 13, 21, 34, 55, 89]\n",
    "new_list = []\n",
    "\n",
    "for num in a:\n",
    "    if num < 5:\n",
    "        new_list.append(num)"
   ]
  },
  {
   "cell_type": "code",
   "execution_count": 17,
   "id": "motivated-filename",
   "metadata": {},
   "outputs": [
    {
     "name": "stdout",
     "output_type": "stream",
     "text": [
      "[1, 1, 2, 3]\n"
     ]
    }
   ],
   "source": [
    "print(new_list)"
   ]
  },
  {
   "cell_type": "code",
   "execution_count": null,
   "id": "enabling-option",
   "metadata": {},
   "outputs": [],
   "source": []
  },
  {
   "cell_type": "markdown",
   "id": "literary-clerk",
   "metadata": {},
   "source": [
    "## Question 3"
   ]
  },
  {
   "cell_type": "code",
   "execution_count": 20,
   "id": "suspended-network",
   "metadata": {},
   "outputs": [
    {
     "name": "stdout",
     "output_type": "stream",
     "text": [
      "how many Fibonacci numbers to generate10\n",
      "0\n",
      "1\n",
      "1\n",
      "2\n",
      "3\n",
      "5\n",
      "8\n",
      "13\n",
      "21\n",
      "34\n"
     ]
    }
   ],
   "source": [
    "n = int(input('how many Fibonacci numbers to generate'))\n",
    "\n",
    "n1, n2 = 0, 1\n",
    "count = 0\n",
    "\n",
    "while count < n:\n",
    "    print(n1)\n",
    "    nth = n1 + n2\n",
    "    n1 = n2\n",
    "    n2 = nth\n",
    "    count += 1"
   ]
  },
  {
   "cell_type": "code",
   "execution_count": null,
   "id": "residential-costume",
   "metadata": {},
   "outputs": [],
   "source": []
  },
  {
   "cell_type": "markdown",
   "id": "accurate-ticket",
   "metadata": {},
   "source": [
    "### Question 4"
   ]
  },
  {
   "cell_type": "code",
   "execution_count": 50,
   "id": "spiritual-planning",
   "metadata": {},
   "outputs": [
    {
     "name": "stdout",
     "output_type": "stream",
     "text": [
      "[1, 2, 3, 4, 5, 6, 7, 8]\n"
     ]
    }
   ],
   "source": [
    "def duplicate(l1):\n",
    "    new_list = []\n",
    "    for num in l1:\n",
    "        if num not in new_list:\n",
    "            new_list.append(num)\n",
    "    return new_list\n",
    "\n",
    "l1 = [1,1,1,1,2,2,3,4,3,4,5,6,7,6,7,8,7,8]\n",
    "\n",
    "print(duplicate(l1))"
   ]
  },
  {
   "cell_type": "code",
   "execution_count": null,
   "id": "spread-dayton",
   "metadata": {},
   "outputs": [],
   "source": []
  },
  {
   "cell_type": "markdown",
   "id": "champion-penguin",
   "metadata": {},
   "source": [
    "### Question 5"
   ]
  },
  {
   "cell_type": "code",
   "execution_count": 59,
   "id": "chief-penguin",
   "metadata": {},
   "outputs": [
    {
     "name": "stdout",
     "output_type": "stream",
     "text": [
      "Enter any number19\n",
      "It is a PRIME Number\n"
     ]
    }
   ],
   "source": [
    "def prime(num):\n",
    "    if num%2 == 0:\n",
    "        print('It is not a PRIME Number')\n",
    "    else:\n",
    "        print('It is a PRIME Number')\n",
    "        \n",
    "num = int(input('Enter any number'))\n",
    "prime(num)"
   ]
  },
  {
   "cell_type": "code",
   "execution_count": null,
   "id": "jewish-shuttle",
   "metadata": {},
   "outputs": [],
   "source": []
  }
 ],
 "metadata": {
  "kernelspec": {
   "display_name": "Python 3",
   "language": "python",
   "name": "python3"
  },
  "language_info": {
   "codemirror_mode": {
    "name": "ipython",
    "version": 3
   },
   "file_extension": ".py",
   "mimetype": "text/x-python",
   "name": "python",
   "nbconvert_exporter": "python",
   "pygments_lexer": "ipython3",
   "version": "3.9.2"
  }
 },
 "nbformat": 4,
 "nbformat_minor": 5
}
